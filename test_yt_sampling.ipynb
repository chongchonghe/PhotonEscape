{
 "cells": [
  {
   "cell_type": "code",
   "execution_count": 2,
   "metadata": {},
   "outputs": [
    {
     "name": "stdout",
     "output_type": "stream",
     "text": [
      "~/.conda/envs/yt4.3/bin/python\n"
     ]
    }
   ],
   "source": [
    "!which python"
   ]
  },
  {
   "cell_type": "code",
   "execution_count": 4,
   "metadata": {},
   "outputs": [],
   "source": [
    "import numpy as np\n",
    "import yt\n",
    "from yt.funcs import mylog\n",
    "import warnings\n",
    "\n",
    "# reduces some of the outputs when reading in yt data\n",
    "mylog.setLevel(40)\n",
    "warnings.simplefilter(action=\"ignore\", category=RuntimeWarning)"
   ]
  },
  {
   "cell_type": "code",
   "execution_count": 5,
   "metadata": {},
   "outputs": [],
   "source": [
    "# load data\n",
    "dpath = \"data/cluster_sfe_70/output_01111\"\n",
    "ds = yt.load(dpath)\n",
    "ad = ds.all_data()"
   ]
  },
  {
   "cell_type": "code",
   "execution_count": 13,
   "metadata": {},
   "outputs": [],
   "source": [
    "field_to_sample = ('ramses', 'Density')\n",
    "num_points = 1_000_000\n",
    "positions = ds.domain_left_edge + np.random.random((num_points, 3)) * ds.domain_width\n"
   ]
  },
  {
   "cell_type": "code",
   "execution_count": 17,
   "metadata": {},
   "outputs": [
    {
     "data": {
      "text/plain": [
       "YTCoveringGrid (info_01111): , level=0, left_edge=[0. 0. 0.] cm, ActiveDimensions=[ 1  1 64]"
      ]
     },
     "execution_count": 17,
     "metadata": {},
     "output_type": "execute_result"
    }
   ],
   "source": [
    "ds.covering_grid(level=0, left_edge=ds.domain_left_edge, dims=[1, 1, 64], fields=[field_to_sample])"
   ]
  },
  {
   "cell_type": "code",
   "execution_count": 9,
   "metadata": {},
   "outputs": [
    {
     "name": "stdout",
     "output_type": "stream",
     "text": [
      "['__abstractmethods__', '__add__', '__and__', '__annotations__', '__class__', '__delattr__', '__delitem__', '__dict__', '__dir__', '__doc__', '__eq__', '__format__', '__ge__', '__getattribute__', '__getitem__', '__getstate__', '__gt__', '__hash__', '__init__', '__init_subclass__', '__invert__', '__le__', '__lt__', '__module__', '__ne__', '__new__', '__or__', '__reduce__', '__reduce_ex__', '__repr__', '__setattr__', '__setitem__', '__sizeof__', '__slots__', '__str__', '__sub__', '__subclasshook__', '__weakref__', '__xor__', '_abc_impl', '_activate_cache', '_build_function_cut', '_build_operator_cut', '_calculate_flux_in_grid', '_chunk_info', '_chunked_read', '_compute_extrema', '_con_args', '_container_fields', '_count_particles', '_current_chunk', '_current_fluid_type', '_current_particle_type', '_data_source', '_debug', '_default_field_parameters', '_derived_quantity_chunking', '_determine_fields', '_dimensionality', '_distributed', '_ds_hold', '_extract_isocontours_from_grid', '_extrema_cache', '_field_cache', '_field_lock', '_field_parameter_state', '_field_type_state', '_finalize_parallel', '_first_matching_field', '_generate_container_field', '_generate_field', '_generate_fields', '_generate_fluid_field', '_generate_particle_field', '_generate_spatial_fluid', '_get_bbox', '_get_grid_objs', '_get_grids', '_get_objs', '_grids', '_hash', '_identify_dependencies', '_index', '_initialize_cache', '_initialize_parallel', '_ipython_key_completions_', '_is_default_field_parameter', '_key_fields', '_locked', '_max_level', '_min_level', '_num_ghost_zones', '_parameter_iterate', '_reshape_vals', '_selector', '_set_center', '_set_default_field_parameters', '_skip_add', '_sort_by', '_spatial', '_tds_attrs', '_tds_fields', '_tree', '_type_name', 'apply_units', 'argmax', 'argmin', 'blocks', 'calculate_isocontour_flux', 'center', 'chunks', 'clear_data', 'clone', 'comm', 'coords', 'create_firefly_object', 'cut_region', 'ds', 'exclude_above', 'exclude_below', 'exclude_equal', 'exclude_inside', 'exclude_nan', 'exclude_outside', 'extract_connected_sets', 'extract_isocontours', 'fcoords', 'fcoords_vertex', 'field_data', 'field_parameters', 'fwidth', 'get_bbox', 'get_data', 'get_dependencies', 'get_field_parameter', 'has_field_parameter', 'has_key', 'icoords', 'include_above', 'include_below', 'include_equal', 'include_inside', 'include_outside', 'index', 'integrate', 'ires', 'keys', 'left_edge', 'max', 'max_level', 'mean', 'min', 'min_level', 'partition_index_2d', 'partition_index_3d', 'partition_index_3d_bisection_list', 'partition_region_3d', 'pf', 'profile', 'ptp', 'quantities', 'right_edge', 'save_as_dataset', 'selector', 'set_field_parameter', 'std', 'sum', 'tiles', 'to_astropy_table', 'to_dataframe', 'to_glue', 'volume', 'write_out']\n"
     ]
    }
   ],
   "source": [
    "# print all methods of ad\n",
    "print(dir(ad))"
   ]
  },
  {
   "cell_type": "code",
   "execution_count": 24,
   "metadata": {},
   "outputs": [
    {
     "data": {
      "text/plain": [
       "[('gravity', 'Potential'),\n",
       " ('gravity', 'x-acceleration'),\n",
       " ('gravity', 'y-acceleration'),\n",
       " ('gravity', 'z-acceleration'),\n",
       " ('io', 'particle_extra_field_1'),\n",
       " ('io', 'particle_extra_field_2'),\n",
       " ('io', 'particle_extra_field_3'),\n",
       " ('io', 'particle_extra_field_4'),\n",
       " ('io', 'particle_identity'),\n",
       " ('io', 'particle_mass'),\n",
       " ('io', 'particle_position_x'),\n",
       " ('io', 'particle_position_y'),\n",
       " ('io', 'particle_position_z'),\n",
       " ('io', 'particle_refinement_level'),\n",
       " ('io', 'particle_velocity_x'),\n",
       " ('io', 'particle_velocity_y'),\n",
       " ('io', 'particle_velocity_z'),\n",
       " ('nbody', 'particle_mass'),\n",
       " ('nbody', 'particle_position_x'),\n",
       " ('nbody', 'particle_position_y'),\n",
       " ('nbody', 'particle_position_z'),\n",
       " ('nbody', 'particle_velocity_x'),\n",
       " ('nbody', 'particle_velocity_y'),\n",
       " ('nbody', 'particle_velocity_z'),\n",
       " ('ramses', 'Density'),\n",
       " ('ramses', 'HII'),\n",
       " ('ramses', 'HeII'),\n",
       " ('ramses', 'HeIII'),\n",
       " ('ramses', 'Metallicity'),\n",
       " ('ramses', 'Pres_IR'),\n",
       " ('ramses', 'Pressure'),\n",
       " ('ramses', 'var_10'),\n",
       " ('ramses', 'x-velocity'),\n",
       " ('ramses', 'y-velocity'),\n",
       " ('ramses', 'z-velocity'),\n",
       " ('ramses-rt', 'Photon_density_1'),\n",
       " ('ramses-rt', 'Photon_density_2'),\n",
       " ('ramses-rt', 'Photon_density_3'),\n",
       " ('ramses-rt', 'Photon_density_4'),\n",
       " ('ramses-rt', 'Photon_flux_x_1'),\n",
       " ('ramses-rt', 'Photon_flux_x_2'),\n",
       " ('ramses-rt', 'Photon_flux_x_3'),\n",
       " ('ramses-rt', 'Photon_flux_x_4'),\n",
       " ('ramses-rt', 'Photon_flux_y_1'),\n",
       " ('ramses-rt', 'Photon_flux_y_2'),\n",
       " ('ramses-rt', 'Photon_flux_y_3'),\n",
       " ('ramses-rt', 'Photon_flux_y_4'),\n",
       " ('ramses-rt', 'Photon_flux_z_1'),\n",
       " ('ramses-rt', 'Photon_flux_z_2'),\n",
       " ('ramses-rt', 'Photon_flux_z_3'),\n",
       " ('ramses-rt', 'Photon_flux_z_4'),\n",
       " ('sink', 'BH_bondi_accretion'),\n",
       " ('sink', 'BH_eddington_accretion'),\n",
       " ('sink', 'BH_esave'),\n",
       " ('sink', 'BH_real_accretion'),\n",
       " ('sink', 'conformal_birth_time'),\n",
       " ('sink', 'gas_spin_x'),\n",
       " ('sink', 'gas_spin_y'),\n",
       " ('sink', 'gas_spin_z'),\n",
       " ('sink', 'particle_birth_time'),\n",
       " ('sink', 'particle_identifier'),\n",
       " ('sink', 'particle_mass'),\n",
       " ('sink', 'particle_position_x'),\n",
       " ('sink', 'particle_position_y'),\n",
       " ('sink', 'particle_position_z'),\n",
       " ('sink', 'particle_velocity_x'),\n",
       " ('sink', 'particle_velocity_y'),\n",
       " ('sink', 'particle_velocity_z'),\n",
       " ('sink_csv', 'particle_         1'),\n",
       " ('sink_csv', 'particle_    1.5077794036E-27'),\n",
       " ('sink_csv', 'particle_    2.2067018712E-28'),\n",
       " ('sink_csv', 'particle_    2.2917434810E-14'),\n",
       " ('sink_csv', 'particle_    2.9991117980E-04'),\n",
       " ('sink_csv', 'particle_    4.1797148077E-18'),\n",
       " ('sink_csv', 'particle_    4.4918607216E-28'),\n",
       " ('sink_csv', 'particle_    4.7613401154E-01'),\n",
       " ('sink_csv', 'particle_    4.9275435812E-01'),\n",
       " ('sink_csv', 'particle_    4.9307995060E-01'),\n",
       " ('sink_csv', 'particle_   -1.1195679835E-03'),\n",
       " ('sink_csv', 'particle_   -4.3325128729E-05'),\n",
       " ('sink_csv', 'particle_   -6.3851864942E+00')]"
      ]
     },
     "execution_count": 24,
     "metadata": {},
     "output_type": "execute_result"
    }
   ],
   "source": [
    "ds.field_list\n"
   ]
  },
  {
   "cell_type": "code",
   "execution_count": 15,
   "metadata": {},
   "outputs": [
    {
     "ename": "AttributeError",
     "evalue": "'RAMSESDataset' object has no attribute 'interpolate'",
     "output_type": "error",
     "traceback": [
      "\u001b[0;31m---------------------------------------------------------------------------\u001b[0m",
      "\u001b[0;31mAttributeError\u001b[0m                            Traceback (most recent call last)",
      "Cell \u001b[0;32mIn[15], line 1\u001b[0m\n\u001b[0;32m----> 1\u001b[0m sampled_values \u001b[38;5;241m=\u001b[39m \u001b[43mds\u001b[49m\u001b[38;5;241;43m.\u001b[39;49m\u001b[43minterpolate\u001b[49m(field_to_sample, positions)\n",
      "\u001b[0;31mAttributeError\u001b[0m: 'RAMSESDataset' object has no attribute 'interpolate'"
     ]
    }
   ],
   "source": [
    "sampled_values = ds.interpolate(field_to_sample, positions)"
   ]
  },
  {
   "cell_type": "code",
   "execution_count": 27,
   "metadata": {},
   "outputs": [
    {
     "ename": "YTFieldNotFound",
     "evalue": "Could not find field ('all', 'particle_position') in info_01111.\nDid you mean:\n\t('io', 'particle_position')\n\t('nbody', 'particle_position')\n\t('sink', 'particle_position')",
     "output_type": "error",
     "traceback": [
      "\u001b[0;31m---------------------------------------------------------------------------\u001b[0m",
      "\u001b[0;31mYTFieldNotFound\u001b[0m                           Traceback (most recent call last)",
      "Cell \u001b[0;32mIn[27], line 6\u001b[0m\n\u001b[1;32m      3\u001b[0m     \u001b[38;5;28;01mreturn\u001b[39;00m data[\u001b[38;5;124m\"\u001b[39m\u001b[38;5;124mmesh\u001b[39m\u001b[38;5;124m\"\u001b[39m, \u001b[38;5;124m\"\u001b[39m\u001b[38;5;124mdensity\u001b[39m\u001b[38;5;124m\"\u001b[39m]  \u001b[38;5;66;03m# Sample the \"density\" mesh field  \u001b[39;00m\n\u001b[1;32m      5\u001b[0m \u001b[38;5;66;03m# Add the particle field sampled from the mesh  \u001b[39;00m\n\u001b[0;32m----> 6\u001b[0m \u001b[43mds\u001b[49m\u001b[38;5;241;43m.\u001b[39;49m\u001b[43madd_mesh_sampling_particle_field\u001b[49m\u001b[43m(\u001b[49m\u001b[43m(\u001b[49m\u001b[38;5;124;43m\"\u001b[39;49m\u001b[38;5;124;43mgas\u001b[39;49m\u001b[38;5;124;43m\"\u001b[39;49m\u001b[43m,\u001b[49m\u001b[43m \u001b[49m\u001b[38;5;124;43m\"\u001b[39;49m\u001b[38;5;124;43mdensity\u001b[39;49m\u001b[38;5;124;43m\"\u001b[39;49m\u001b[43m)\u001b[49m\u001b[43m,\u001b[49m\u001b[43m \u001b[49m\u001b[43mptype\u001b[49m\u001b[38;5;241;43m=\u001b[39;49m\u001b[38;5;124;43m\"\u001b[39;49m\u001b[38;5;124;43mall\u001b[39;49m\u001b[38;5;124;43m\"\u001b[39;49m\u001b[43m,\u001b[49m\u001b[43m \u001b[49m\u001b[43m)\u001b[49m \u001b[38;5;66;03m#method=\"nearest\")  \u001b[39;00m\n\u001b[1;32m      8\u001b[0m \u001b[38;5;66;03m# Now, you can use the newly added field as any other particle field  \u001b[39;00m\n\u001b[1;32m      9\u001b[0m ad2 \u001b[38;5;241m=\u001b[39m ds\u001b[38;5;241m.\u001b[39mall_data()  \n",
      "File \u001b[0;32m~/.conda/envs/yt4.3/lib/python3.12/site-packages/yt/data_objects/static_output.py:1825\u001b[0m, in \u001b[0;36mDataset.add_mesh_sampling_particle_field\u001b[0;34m(self, sample_field, ptype)\u001b[0m\n\u001b[1;32m   1822\u001b[0m \u001b[38;5;28;01melse\u001b[39;00m:\n\u001b[1;32m   1823\u001b[0m     \u001b[38;5;28;01mraise\u001b[39;00m \u001b[38;5;167;01mRuntimeError\u001b[39;00m\n\u001b[0;32m-> 1825\u001b[0m \u001b[38;5;28;01mreturn\u001b[39;00m \u001b[38;5;28;43mself\u001b[39;49m\u001b[38;5;241;43m.\u001b[39;49m\u001b[43mindex\u001b[49m\u001b[38;5;241;43m.\u001b[39;49m\u001b[43m_add_mesh_sampling_particle_field\u001b[49m\u001b[43m(\u001b[49m\u001b[43msample_field\u001b[49m\u001b[43m,\u001b[49m\u001b[43m \u001b[49m\u001b[43mftype\u001b[49m\u001b[43m,\u001b[49m\u001b[43m \u001b[49m\u001b[43mptype\u001b[49m\u001b[43m)\u001b[49m\n",
      "File \u001b[0;32m~/.conda/envs/yt4.3/lib/python3.12/site-packages/yt/geometry/oct_geometry_handler.py:107\u001b[0m, in \u001b[0;36mOctreeIndex._add_mesh_sampling_particle_field\u001b[0;34m(self, deposit_field, ftype, ptype)\u001b[0m\n\u001b[1;32m    104\u001b[0m     \u001b[38;5;28;01mreturn\u001b[39;00m data\u001b[38;5;241m.\u001b[39mds\u001b[38;5;241m.\u001b[39marr(ret, units\u001b[38;5;241m=\u001b[39mcell_data\u001b[38;5;241m.\u001b[39munits)\n\u001b[1;32m    106\u001b[0m \u001b[38;5;28;01mif\u001b[39;00m (ptype, \u001b[38;5;124m\"\u001b[39m\u001b[38;5;124mcell_index\u001b[39m\u001b[38;5;124m\"\u001b[39m) \u001b[38;5;129;01mnot\u001b[39;00m \u001b[38;5;129;01min\u001b[39;00m \u001b[38;5;28mself\u001b[39m\u001b[38;5;241m.\u001b[39mds\u001b[38;5;241m.\u001b[39mderived_field_list:\n\u001b[0;32m--> 107\u001b[0m     \u001b[38;5;28;43mself\u001b[39;49m\u001b[38;5;241;43m.\u001b[39;49m\u001b[43mds\u001b[49m\u001b[38;5;241;43m.\u001b[39;49m\u001b[43madd_field\u001b[49m\u001b[43m(\u001b[49m\n\u001b[1;32m    108\u001b[0m \u001b[43m        \u001b[49m\u001b[43m(\u001b[49m\u001b[43mptype\u001b[49m\u001b[43m,\u001b[49m\u001b[43m \u001b[49m\u001b[38;5;124;43m\"\u001b[39;49m\u001b[38;5;124;43mcell_index\u001b[39;49m\u001b[38;5;124;43m\"\u001b[39;49m\u001b[43m)\u001b[49m\u001b[43m,\u001b[49m\n\u001b[1;32m    109\u001b[0m \u001b[43m        \u001b[49m\u001b[43mfunction\u001b[49m\u001b[38;5;241;43m=\u001b[39;49m\u001b[43m_cell_index\u001b[49m\u001b[43m,\u001b[49m\n\u001b[1;32m    110\u001b[0m \u001b[43m        \u001b[49m\u001b[43msampling_type\u001b[49m\u001b[38;5;241;43m=\u001b[39;49m\u001b[38;5;124;43m\"\u001b[39;49m\u001b[38;5;124;43mparticle\u001b[39;49m\u001b[38;5;124;43m\"\u001b[39;49m\u001b[43m,\u001b[49m\n\u001b[1;32m    111\u001b[0m \u001b[43m        \u001b[49m\u001b[43munits\u001b[49m\u001b[38;5;241;43m=\u001b[39;49m\u001b[38;5;124;43m\"\u001b[39;49m\u001b[38;5;124;43m1\u001b[39;49m\u001b[38;5;124;43m\"\u001b[39;49m\u001b[43m,\u001b[49m\n\u001b[1;32m    112\u001b[0m \u001b[43m    \u001b[49m\u001b[43m)\u001b[49m\n\u001b[1;32m    114\u001b[0m \u001b[38;5;28mself\u001b[39m\u001b[38;5;241m.\u001b[39mds\u001b[38;5;241m.\u001b[39madd_field(\n\u001b[1;32m    115\u001b[0m     (ptype, field_name),\n\u001b[1;32m    116\u001b[0m     function\u001b[38;5;241m=\u001b[39m_mesh_sampling_particle_field,\n\u001b[0;32m   (...)\u001b[0m\n\u001b[1;32m    119\u001b[0m     take_log\u001b[38;5;241m=\u001b[39mtake_log,\n\u001b[1;32m    120\u001b[0m )\n",
      "File \u001b[0;32m~/.conda/envs/yt4.3/lib/python3.12/site-packages/yt/data_objects/static_output.py:1780\u001b[0m, in \u001b[0;36mDataset.add_field\u001b[0;34m(self, name, function, sampling_type, force_override, **kwargs)\u001b[0m\n\u001b[1;32m   1776\u001b[0m \u001b[38;5;28mself\u001b[39m\u001b[38;5;241m.\u001b[39mfield_info\u001b[38;5;241m.\u001b[39madd_field(\n\u001b[1;32m   1777\u001b[0m     name, function, sampling_type, force_override\u001b[38;5;241m=\u001b[39mforce_override, \u001b[38;5;241m*\u001b[39m\u001b[38;5;241m*\u001b[39mkwargs\n\u001b[1;32m   1778\u001b[0m )\n\u001b[1;32m   1779\u001b[0m \u001b[38;5;28mself\u001b[39m\u001b[38;5;241m.\u001b[39mfield_info\u001b[38;5;241m.\u001b[39m_show_field_errors\u001b[38;5;241m.\u001b[39mappend(name)\n\u001b[0;32m-> 1780\u001b[0m deps, _ \u001b[38;5;241m=\u001b[39m \u001b[38;5;28;43mself\u001b[39;49m\u001b[38;5;241;43m.\u001b[39;49m\u001b[43mfield_info\u001b[49m\u001b[38;5;241;43m.\u001b[39;49m\u001b[43mcheck_derived_fields\u001b[49m\u001b[43m(\u001b[49m\u001b[43m[\u001b[49m\u001b[43mname\u001b[49m\u001b[43m]\u001b[49m\u001b[43m)\u001b[49m\n\u001b[1;32m   1781\u001b[0m \u001b[38;5;28mself\u001b[39m\u001b[38;5;241m.\u001b[39mfield_dependencies\u001b[38;5;241m.\u001b[39mupdate(deps)\n",
      "File \u001b[0;32m~/.conda/envs/yt4.3/lib/python3.12/site-packages/yt/fields/field_info_container.py:644\u001b[0m, in \u001b[0;36mFieldInfoContainer.check_derived_fields\u001b[0;34m(self, fields_to_check)\u001b[0m\n\u001b[1;32m    641\u001b[0m fi \u001b[38;5;241m=\u001b[39m \u001b[38;5;28mself\u001b[39m[field]\n\u001b[1;32m    642\u001b[0m \u001b[38;5;28;01mtry\u001b[39;00m:\n\u001b[1;32m    643\u001b[0m     \u001b[38;5;66;03m# fd: field detector\u001b[39;00m\n\u001b[0;32m--> 644\u001b[0m     fd \u001b[38;5;241m=\u001b[39m \u001b[43mfi\u001b[49m\u001b[38;5;241;43m.\u001b[39;49m\u001b[43mget_dependencies\u001b[49m\u001b[43m(\u001b[49m\u001b[43mds\u001b[49m\u001b[38;5;241;43m=\u001b[39;49m\u001b[38;5;28;43mself\u001b[39;49m\u001b[38;5;241;43m.\u001b[39;49m\u001b[43mds\u001b[49m\u001b[43m)\u001b[49m\n\u001b[1;32m    645\u001b[0m \u001b[38;5;28;01mexcept\u001b[39;00m blacklist \u001b[38;5;28;01mas\u001b[39;00m err:\n\u001b[1;32m    646\u001b[0m     \u001b[38;5;28mprint\u001b[39m(\u001b[38;5;124mf\u001b[39m\u001b[38;5;124m\"\u001b[39m\u001b[38;5;132;01m{\u001b[39;00merr\u001b[38;5;241m.\u001b[39m\u001b[38;5;18m__class__\u001b[39m\u001b[38;5;132;01m}\u001b[39;00m\u001b[38;5;124m raised for field \u001b[39m\u001b[38;5;132;01m{\u001b[39;00mfield\u001b[38;5;132;01m}\u001b[39;00m\u001b[38;5;124m\"\u001b[39m)\n",
      "File \u001b[0;32m~/.conda/envs/yt4.3/lib/python3.12/site-packages/yt/fields/derived_field.py:244\u001b[0m, in \u001b[0;36mDerivedField.get_dependencies\u001b[0;34m(self, *args, **kwargs)\u001b[0m\n\u001b[1;32m    240\u001b[0m \u001b[38;5;250m\u001b[39m\u001b[38;5;124;03m\"\"\"\u001b[39;00m\n\u001b[1;32m    241\u001b[0m \u001b[38;5;124;03mThis returns a list of names of fields that this field depends on.\u001b[39;00m\n\u001b[1;32m    242\u001b[0m \u001b[38;5;124;03m\"\"\"\u001b[39;00m\n\u001b[1;32m    243\u001b[0m e \u001b[38;5;241m=\u001b[39m FieldDetector(\u001b[38;5;241m*\u001b[39margs, \u001b[38;5;241m*\u001b[39m\u001b[38;5;241m*\u001b[39mkwargs)\n\u001b[0;32m--> 244\u001b[0m \u001b[43me\u001b[49m\u001b[43m[\u001b[49m\u001b[38;5;28;43mself\u001b[39;49m\u001b[38;5;241;43m.\u001b[39;49m\u001b[43mname\u001b[49m\u001b[43m]\u001b[49m\n\u001b[1;32m    245\u001b[0m \u001b[38;5;28;01mreturn\u001b[39;00m e\n",
      "File \u001b[0;32m~/.conda/envs/yt4.3/lib/python3.12/site-packages/yt/fields/field_detector.py:128\u001b[0m, in \u001b[0;36mFieldDetector.__missing__\u001b[0;34m(self, item)\u001b[0m\n\u001b[1;32m    126\u001b[0m             vv \u001b[38;5;241m=\u001b[39m finfo(\u001b[38;5;28mself\u001b[39m)\n\u001b[1;32m    127\u001b[0m     \u001b[38;5;28;01mif\u001b[39;00m \u001b[38;5;129;01mnot\u001b[39;00m permute_params:\n\u001b[0;32m--> 128\u001b[0m         vv \u001b[38;5;241m=\u001b[39m \u001b[43mfinfo\u001b[49m\u001b[43m(\u001b[49m\u001b[38;5;28;43mself\u001b[39;49m\u001b[43m)\u001b[49m\n\u001b[1;32m    129\u001b[0m \u001b[38;5;28;01mexcept\u001b[39;00m NeedsGridType \u001b[38;5;28;01mas\u001b[39;00m exc:\n\u001b[1;32m    130\u001b[0m     ngz \u001b[38;5;241m=\u001b[39m exc\u001b[38;5;241m.\u001b[39mghost_zones\n",
      "File \u001b[0;32m~/.conda/envs/yt4.3/lib/python3.12/site-packages/yt/fields/derived_field.py:285\u001b[0m, in \u001b[0;36mDerivedField.__call__\u001b[0;34m(self, data)\u001b[0m\n\u001b[1;32m    280\u001b[0m     \u001b[38;5;28;01mraise\u001b[39;00m \u001b[38;5;167;01mRuntimeError\u001b[39;00m(\n\u001b[1;32m    281\u001b[0m         \u001b[38;5;124m\"\u001b[39m\u001b[38;5;124mSomething has gone terribly wrong, _function is NullFunc \u001b[39m\u001b[38;5;124m\"\u001b[39m\n\u001b[1;32m    282\u001b[0m         \u001b[38;5;241m+\u001b[39m \u001b[38;5;124mf\u001b[39m\u001b[38;5;124m\"\u001b[39m\u001b[38;5;124mfor \u001b[39m\u001b[38;5;132;01m{\u001b[39;00m\u001b[38;5;28mself\u001b[39m\u001b[38;5;241m.\u001b[39mname\u001b[38;5;132;01m}\u001b[39;00m\u001b[38;5;124m\"\u001b[39m\n\u001b[1;32m    283\u001b[0m     )\n\u001b[1;32m    284\u001b[0m \u001b[38;5;28;01mwith\u001b[39;00m \u001b[38;5;28mself\u001b[39m\u001b[38;5;241m.\u001b[39munit_registry(data):\n\u001b[0;32m--> 285\u001b[0m     dd \u001b[38;5;241m=\u001b[39m \u001b[38;5;28;43mself\u001b[39;49m\u001b[38;5;241;43m.\u001b[39;49m\u001b[43m_function\u001b[49m\u001b[43m(\u001b[49m\u001b[38;5;28;43mself\u001b[39;49m\u001b[43m,\u001b[49m\u001b[43m \u001b[49m\u001b[43mdata\u001b[49m\u001b[43m)\u001b[49m\n\u001b[1;32m    286\u001b[0m \u001b[38;5;28;01mfor\u001b[39;00m field_name \u001b[38;5;129;01min\u001b[39;00m data\u001b[38;5;241m.\u001b[39mkeys():\n\u001b[1;32m    287\u001b[0m     \u001b[38;5;28;01mif\u001b[39;00m field_name \u001b[38;5;129;01mnot\u001b[39;00m \u001b[38;5;129;01min\u001b[39;00m original_fields:\n",
      "File \u001b[0;32m~/.conda/envs/yt4.3/lib/python3.12/site-packages/yt/geometry/oct_geometry_handler.py:36\u001b[0m, in \u001b[0;36mOctreeIndex._add_mesh_sampling_particle_field.<locals>._cell_index\u001b[0;34m(field, data)\u001b[0m\n\u001b[1;32m     34\u001b[0m \u001b[38;5;28;01mdef\u001b[39;00m \u001b[38;5;21m_cell_index\u001b[39m(field, data):\n\u001b[1;32m     35\u001b[0m     \u001b[38;5;66;03m# Get the position of the particles\u001b[39;00m\n\u001b[0;32m---> 36\u001b[0m     pos \u001b[38;5;241m=\u001b[39m \u001b[43mdata\u001b[49m\u001b[43m[\u001b[49m\u001b[43mptype\u001b[49m\u001b[43m,\u001b[49m\u001b[43m \u001b[49m\u001b[38;5;124;43m\"\u001b[39;49m\u001b[38;5;124;43mparticle_position\u001b[39;49m\u001b[38;5;124;43m\"\u001b[39;49m\u001b[43m]\u001b[49m\n\u001b[1;32m     37\u001b[0m     Npart \u001b[38;5;241m=\u001b[39m pos\u001b[38;5;241m.\u001b[39mshape[\u001b[38;5;241m0\u001b[39m]\n\u001b[1;32m     38\u001b[0m     ret \u001b[38;5;241m=\u001b[39m np\u001b[38;5;241m.\u001b[39mzeros(Npart, dtype\u001b[38;5;241m=\u001b[39m\u001b[38;5;124m\"\u001b[39m\u001b[38;5;124mfloat64\u001b[39m\u001b[38;5;124m\"\u001b[39m)\n",
      "File \u001b[0;32m~/.conda/envs/yt4.3/lib/python3.12/site-packages/yt/fields/field_detector.py:111\u001b[0m, in \u001b[0;36mFieldDetector.__missing__\u001b[0;34m(self, item)\u001b[0m\n\u001b[1;32m    109\u001b[0m \u001b[38;5;28;01melse\u001b[39;00m:\n\u001b[1;32m    110\u001b[0m     field \u001b[38;5;241m=\u001b[39m item\n\u001b[0;32m--> 111\u001b[0m finfo \u001b[38;5;241m=\u001b[39m \u001b[38;5;28;43mself\u001b[39;49m\u001b[38;5;241;43m.\u001b[39;49m\u001b[43mds\u001b[49m\u001b[38;5;241;43m.\u001b[39;49m\u001b[43m_get_field_info\u001b[49m\u001b[43m(\u001b[49m\u001b[43mfield\u001b[49m\u001b[43m)\u001b[49m\n\u001b[1;32m    112\u001b[0m params, permute_params \u001b[38;5;241m=\u001b[39m finfo\u001b[38;5;241m.\u001b[39m_get_needed_parameters(\u001b[38;5;28mself\u001b[39m)\n\u001b[1;32m    113\u001b[0m \u001b[38;5;28mself\u001b[39m\u001b[38;5;241m.\u001b[39mfield_parameters\u001b[38;5;241m.\u001b[39mupdate(params)\n",
      "File \u001b[0;32m~/.conda/envs/yt4.3/lib/python3.12/site-packages/yt/data_objects/static_output.py:957\u001b[0m, in \u001b[0;36mDataset._get_field_info\u001b[0;34m(self, field)\u001b[0m\n\u001b[1;32m    952\u001b[0m \u001b[38;5;28;01mdef\u001b[39;00m \u001b[38;5;21m_get_field_info\u001b[39m(\n\u001b[1;32m    953\u001b[0m     \u001b[38;5;28mself\u001b[39m,\n\u001b[1;32m    954\u001b[0m     field: Union[FieldKey, ImplicitFieldKey, DerivedField],\n\u001b[1;32m    955\u001b[0m     \u001b[38;5;241m/\u001b[39m,\n\u001b[1;32m    956\u001b[0m ) \u001b[38;5;241m-\u001b[39m\u001b[38;5;241m>\u001b[39m DerivedField:\n\u001b[0;32m--> 957\u001b[0m     field_info, candidates \u001b[38;5;241m=\u001b[39m \u001b[38;5;28;43mself\u001b[39;49m\u001b[38;5;241;43m.\u001b[39;49m\u001b[43m_get_field_info_helper\u001b[49m\u001b[43m(\u001b[49m\u001b[43mfield\u001b[49m\u001b[43m)\u001b[49m\n\u001b[1;32m    959\u001b[0m     \u001b[38;5;28;01mif\u001b[39;00m field_info\u001b[38;5;241m.\u001b[39mname[\u001b[38;5;241m1\u001b[39m] \u001b[38;5;129;01min\u001b[39;00m (\u001b[38;5;124m\"\u001b[39m\u001b[38;5;124mpx\u001b[39m\u001b[38;5;124m\"\u001b[39m, \u001b[38;5;124m\"\u001b[39m\u001b[38;5;124mpy\u001b[39m\u001b[38;5;124m\"\u001b[39m, \u001b[38;5;124m\"\u001b[39m\u001b[38;5;124mpz\u001b[39m\u001b[38;5;124m\"\u001b[39m, \u001b[38;5;124m\"\u001b[39m\u001b[38;5;124mpdx\u001b[39m\u001b[38;5;124m\"\u001b[39m, \u001b[38;5;124m\"\u001b[39m\u001b[38;5;124mpdy\u001b[39m\u001b[38;5;124m\"\u001b[39m, \u001b[38;5;124m\"\u001b[39m\u001b[38;5;124mpdz\u001b[39m\u001b[38;5;124m\"\u001b[39m):\n\u001b[1;32m    960\u001b[0m         \u001b[38;5;66;03m# escape early as a bandaid solution to\u001b[39;00m\n\u001b[1;32m    961\u001b[0m         \u001b[38;5;66;03m# https://github.com/yt-project/yt/issues/3381\u001b[39;00m\n\u001b[1;32m    962\u001b[0m         \u001b[38;5;28;01mreturn\u001b[39;00m field_info\n",
      "File \u001b[0;32m~/.conda/envs/yt4.3/lib/python3.12/site-packages/yt/data_objects/static_output.py:1050\u001b[0m, in \u001b[0;36mDataset._get_field_info_helper\u001b[0;34m(self, field)\u001b[0m\n\u001b[1;32m   1047\u001b[0m \u001b[38;5;28;01melif\u001b[39;00m (ftype, fname) \u001b[38;5;129;01min\u001b[39;00m \u001b[38;5;28mself\u001b[39m\u001b[38;5;241m.\u001b[39mfield_info:\n\u001b[1;32m   1048\u001b[0m     \u001b[38;5;28;01mreturn\u001b[39;00m \u001b[38;5;28mself\u001b[39m\u001b[38;5;241m.\u001b[39mfield_info[ftype, fname], []\n\u001b[0;32m-> 1050\u001b[0m \u001b[38;5;28;01mraise\u001b[39;00m YTFieldNotFound(field, ds\u001b[38;5;241m=\u001b[39m\u001b[38;5;28mself\u001b[39m)\n",
      "\u001b[0;31mYTFieldNotFound\u001b[0m: Could not find field ('all', 'particle_position') in info_01111.\nDid you mean:\n\t('io', 'particle_position')\n\t('nbody', 'particle_position')\n\t('sink', 'particle_position')"
     ]
    }
   ],
   "source": [
    "# Define a function that will create the new particle field by sampling the mesh field  \n",
    "def _my_field_sampled_by_particles(field, data):  \n",
    "    return data[\"mesh\", \"density\"]  # Sample the \"density\" mesh field  \n",
    "\n",
    "# Add the particle field sampled from the mesh  \n",
    "ds.add_mesh_sampling_particle_field((\"gas\", \"density\"), ptype=\"all\", ) #method=\"nearest\")  \n",
    "\n",
    "# Now, you can use the newly added field as any other particle field  \n",
    "ad2 = ds.all_data()  \n",
    "\n",
    "# Access the newly created field sampled onto particles  \n",
    "particle_density = ad2[\"all\", \"particle_density\"]  \n",
    "\n",
    "# Print the sampled values  \n",
    "print(particle_density)"
   ]
  },
  {
   "cell_type": "code",
   "execution_count": 32,
   "metadata": {},
   "outputs": [
    {
     "ename": "AttributeError",
     "evalue": "'StreamParticlesDataset' object has no attribute 'mesh_sampling_particle_field'",
     "output_type": "error",
     "traceback": [
      "\u001b[0;31m---------------------------------------------------------------------------\u001b[0m",
      "\u001b[0;31mAttributeError\u001b[0m                            Traceback (most recent call last)",
      "Cell \u001b[0;32mIn[32], line 24\u001b[0m\n\u001b[1;32m     19\u001b[0m random_ds \u001b[38;5;241m=\u001b[39m yt\u001b[38;5;241m.\u001b[39mload_particles(data, length_unit\u001b[38;5;241m=\u001b[39mds\u001b[38;5;241m.\u001b[39mlength_unit, ) \u001b[38;5;66;03m#n_ref=64)  \u001b[39;00m\n\u001b[1;32m     21\u001b[0m \u001b[38;5;66;03m# Link the random particle dataset to the mesh dataset by using add_mesh_sampling_particle_field  \u001b[39;00m\n\u001b[1;32m     22\u001b[0m \u001b[38;5;66;03m# In this case, we'll sample the \"density\" mesh field  \u001b[39;00m\n\u001b[1;32m     23\u001b[0m \u001b[38;5;66;03m# random_ds.add_mesh_sampling_particle_field((\"gas\", \"density\"), ptype=\"all\")  \u001b[39;00m\n\u001b[0;32m---> 24\u001b[0m \u001b[43mrandom_ds\u001b[49m\u001b[38;5;241;43m.\u001b[39;49m\u001b[43mmesh_sampling_particle_field\u001b[49m((\u001b[38;5;124m\"\u001b[39m\u001b[38;5;124mramses\u001b[39m\u001b[38;5;124m\"\u001b[39m, \u001b[38;5;124m\"\u001b[39m\u001b[38;5;124mDensity\u001b[39m\u001b[38;5;124m\"\u001b[39m), ptype\u001b[38;5;241m=\u001b[39m\u001b[38;5;124m\"\u001b[39m\u001b[38;5;124mall\u001b[39m\u001b[38;5;124m\"\u001b[39m)  \n\u001b[1;32m     26\u001b[0m \u001b[38;5;66;03m# Access the newly sampled field  \u001b[39;00m\n\u001b[1;32m     27\u001b[0m ad \u001b[38;5;241m=\u001b[39m random_ds\u001b[38;5;241m.\u001b[39mall_data()  \n",
      "\u001b[0;31mAttributeError\u001b[0m: 'StreamParticlesDataset' object has no attribute 'mesh_sampling_particle_field'"
     ]
    }
   ],
   "source": [
    "# Generate random positions within the domain of the simulation  \n",
    "num_positions = 1000  \n",
    "random_positions = np.random.random((num_positions, 3))  # Random positions in normalized space  \n",
    "\n",
    "# Scale random positions to the simulation domain  \n",
    "domain_left_edge = ds.domain_left_edge.to(\"code_length\")  \n",
    "domain_width = ds.domain_width.to(\"code_length\")  \n",
    "random_positions = domain_left_edge + random_positions * domain_width  \n",
    "\n",
    "# Create a new particle dataset for these random positions  \n",
    "data = {  \n",
    "    'particle_position_x': random_positions[:, 0],  \n",
    "    'particle_position_y': random_positions[:, 1],  \n",
    "    'particle_position_z': random_positions[:, 2],  \n",
    "    'particle_mass': np.ones(num_positions),  # Placeholder, not necessary  \n",
    "}  \n",
    "\n",
    "# Create a YT particle dataset from random positions  \n",
    "random_ds = yt.load_particles(data, length_unit=ds.length_unit, ) #n_ref=64)  \n"
   ]
  },
  {
   "cell_type": "code",
   "execution_count": 39,
   "metadata": {},
   "outputs": [
    {
     "ename": "AttributeError",
     "evalue": "'StreamParticleIndex' object has no attribute '_add_mesh_sampling_particle_field'",
     "output_type": "error",
     "traceback": [
      "\u001b[0;31m---------------------------------------------------------------------------\u001b[0m",
      "\u001b[0;31mAttributeError\u001b[0m                            Traceback (most recent call last)",
      "Cell \u001b[0;32mIn[39], line 4\u001b[0m\n\u001b[1;32m      1\u001b[0m \u001b[38;5;66;03m# Link the random particle dataset to the mesh dataset by using add_mesh_sampling_particle_field  \u001b[39;00m\n\u001b[1;32m      2\u001b[0m \u001b[38;5;66;03m# In this case, we'll sample the \"density\" mesh field  \u001b[39;00m\n\u001b[1;32m      3\u001b[0m \u001b[38;5;66;03m# random_ds.add_mesh_sampling_particle_field((\"gas\", \"density\"), ptype=\"all\")  \u001b[39;00m\n\u001b[0;32m----> 4\u001b[0m \u001b[43mrandom_ds\u001b[49m\u001b[38;5;241;43m.\u001b[39;49m\u001b[43madd_mesh_sampling_particle_field\u001b[49m\u001b[43m(\u001b[49m\u001b[43m(\u001b[49m\u001b[38;5;124;43m\"\u001b[39;49m\u001b[38;5;124;43mwhatever\u001b[39;49m\u001b[38;5;124;43m\"\u001b[39;49m\u001b[43m,\u001b[49m\u001b[43m \u001b[49m\u001b[38;5;124;43m\"\u001b[39;49m\u001b[38;5;124;43mdensity\u001b[39;49m\u001b[38;5;124;43m\"\u001b[39;49m\u001b[43m)\u001b[49m\u001b[43m,\u001b[49m\u001b[43m \u001b[49m\u001b[43mptype\u001b[49m\u001b[38;5;241;43m=\u001b[39;49m\u001b[38;5;124;43m\"\u001b[39;49m\u001b[38;5;124;43mio\u001b[39;49m\u001b[38;5;124;43m\"\u001b[39;49m\u001b[43m)\u001b[49m  \n\u001b[1;32m      6\u001b[0m \u001b[38;5;66;03m# # Access the newly sampled field  \u001b[39;00m\n\u001b[1;32m      7\u001b[0m \u001b[38;5;66;03m# ad = random_ds.all_data()  \u001b[39;00m\n\u001b[1;32m      8\u001b[0m \u001b[38;5;66;03m# sampled_density = ad[\"io\", \"density\"]  \u001b[39;00m\n\u001b[1;32m      9\u001b[0m \n\u001b[1;32m     10\u001b[0m \u001b[38;5;66;03m# # Print the sampled density values  \u001b[39;00m\n\u001b[1;32m     11\u001b[0m \u001b[38;5;66;03m# print(sampled_density)\u001b[39;00m\n",
      "File \u001b[0;32m~/.conda/envs/yt4.3/lib/python3.12/site-packages/yt/data_objects/static_output.py:1825\u001b[0m, in \u001b[0;36mDataset.add_mesh_sampling_particle_field\u001b[0;34m(self, sample_field, ptype)\u001b[0m\n\u001b[1;32m   1822\u001b[0m \u001b[38;5;28;01melse\u001b[39;00m:\n\u001b[1;32m   1823\u001b[0m     \u001b[38;5;28;01mraise\u001b[39;00m \u001b[38;5;167;01mRuntimeError\u001b[39;00m\n\u001b[0;32m-> 1825\u001b[0m \u001b[38;5;28;01mreturn\u001b[39;00m \u001b[38;5;28;43mself\u001b[39;49m\u001b[38;5;241;43m.\u001b[39;49m\u001b[43mindex\u001b[49m\u001b[38;5;241;43m.\u001b[39;49m\u001b[43m_add_mesh_sampling_particle_field\u001b[49m(sample_field, ftype, ptype)\n",
      "\u001b[0;31mAttributeError\u001b[0m: 'StreamParticleIndex' object has no attribute '_add_mesh_sampling_particle_field'"
     ]
    }
   ],
   "source": [
    "\n",
    "# Link the random particle dataset to the mesh dataset by using add_mesh_sampling_particle_field  \n",
    "# In this case, we'll sample the \"density\" mesh field  \n",
    "# random_ds.add_mesh_sampling_particle_field((\"gas\", \"density\"), ptype=\"all\")  \n",
    "random_ds.add_mesh_sampling_particle_field((\"whatever\", \"density\"), ptype=\"io\")  \n",
    "\n",
    "# # Access the newly sampled field  \n",
    "# ad = random_ds.all_data()  \n",
    "# sampled_density = ad[\"io\", \"density\"]  \n",
    "\n",
    "# # Print the sampled density values  \n",
    "# print(sampled_density)"
   ]
  },
  {
   "cell_type": "code",
   "execution_count": 40,
   "metadata": {},
   "outputs": [
    {
     "ename": "AttributeError",
     "evalue": "'YTSmoothedCoveringGrid' object has no attribute 'interpolate'",
     "output_type": "error",
     "traceback": [
      "\u001b[0;31m---------------------------------------------------------------------------\u001b[0m",
      "\u001b[0;31mAttributeError\u001b[0m                            Traceback (most recent call last)",
      "Cell \u001b[0;32mIn[40], line 6\u001b[0m\n\u001b[1;32m      1\u001b[0m \u001b[38;5;66;03m# Now, we sample the \"density\" field at the random positions  \u001b[39;00m\n\u001b[1;32m      2\u001b[0m \u001b[38;5;66;03m# YT provides a way to sample mesh fields at arbitrary positions via the covering grid  \u001b[39;00m\n\u001b[1;32m      3\u001b[0m \u001b[38;5;66;03m# Convert the random positions into code_length (used internally by yt)  \u001b[39;00m\n\u001b[1;32m      4\u001b[0m \n\u001b[1;32m      5\u001b[0m \u001b[38;5;66;03m# Sample the mesh field at these random positions  \u001b[39;00m\n\u001b[0;32m----> 6\u001b[0m sampled_density \u001b[38;5;241m=\u001b[39m \u001b[43mds\u001b[49m\u001b[38;5;241;43m.\u001b[39;49m\u001b[43msmoothed_covering_grid\u001b[49m\u001b[43m(\u001b[49m\u001b[38;5;241;43m0\u001b[39;49m\u001b[43m,\u001b[49m\u001b[43m \u001b[49m\u001b[43mds\u001b[49m\u001b[38;5;241;43m.\u001b[39;49m\u001b[43mdomain_left_edge\u001b[49m\u001b[43m,\u001b[49m\u001b[43m \u001b[49m\u001b[43mds\u001b[49m\u001b[38;5;241;43m.\u001b[39;49m\u001b[43mdomain_dimensions\u001b[49m\u001b[43m)\u001b[49m\u001b[38;5;241;43m.\u001b[39;49m\u001b[43minterpolate\u001b[49m(\u001b[38;5;124m\"\u001b[39m\u001b[38;5;124mdensity\u001b[39m\u001b[38;5;124m\"\u001b[39m, random_positions)  \n\u001b[1;32m      8\u001b[0m \u001b[38;5;66;03m# Print the sampled density values  \u001b[39;00m\n\u001b[1;32m      9\u001b[0m \u001b[38;5;28mprint\u001b[39m(sampled_density)\n",
      "\u001b[0;31mAttributeError\u001b[0m: 'YTSmoothedCoveringGrid' object has no attribute 'interpolate'"
     ]
    }
   ],
   "source": [
    "# Now, we sample the \"density\" field at the random positions  \n",
    "# YT provides a way to sample mesh fields at arbitrary positions via the covering grid  \n",
    "# Convert the random positions into code_length (used internally by yt)  \n",
    "\n",
    "# Sample the mesh field at these random positions  \n",
    "sampled_density = ds.smoothed_covering_grid(0, ds.domain_left_edge, ds.domain_dimensions).interpolate(\"density\", random_positions)  \n",
    "\n",
    "# Print the sampled density values  \n",
    "print(sampled_density)"
   ]
  },
  {
   "cell_type": "code",
   "execution_count": 25,
   "metadata": {},
   "outputs": [
    {
     "ename": "YTFieldNotFound",
     "evalue": "Could not find field ('all', 'particle_position') in info_01111.\nDid you mean:\n\t('io', 'particle_position')\n\t('nbody', 'particle_position')\n\t('sink', 'particle_position')",
     "output_type": "error",
     "traceback": [
      "\u001b[0;31m---------------------------------------------------------------------------\u001b[0m",
      "\u001b[0;31mYTFieldNotFound\u001b[0m                           Traceback (most recent call last)",
      "Cell \u001b[0;32mIn[25], line 1\u001b[0m\n\u001b[0;32m----> 1\u001b[0m \u001b[43mds\u001b[49m\u001b[38;5;241;43m.\u001b[39;49m\u001b[43madd_mesh_sampling_particle_field\u001b[49m\u001b[43m(\u001b[49m\u001b[43m(\u001b[49m\u001b[38;5;124;43m\"\u001b[39;49m\u001b[38;5;124;43mramses\u001b[39;49m\u001b[38;5;124;43m\"\u001b[39;49m\u001b[43m,\u001b[49m\u001b[43m \u001b[49m\u001b[38;5;124;43m\"\u001b[39;49m\u001b[38;5;124;43mDensity\u001b[39;49m\u001b[38;5;124;43m\"\u001b[39;49m\u001b[43m)\u001b[49m\u001b[43m,\u001b[49m\u001b[43m \u001b[49m\u001b[43mptype\u001b[49m\u001b[38;5;241;43m=\u001b[39;49m\u001b[38;5;124;43m\"\u001b[39;49m\u001b[38;5;124;43mall\u001b[39;49m\u001b[38;5;124;43m\"\u001b[39;49m\u001b[43m)\u001b[49m\n\u001b[1;32m      2\u001b[0m \u001b[38;5;66;03m# ad = ds.all_data()\u001b[39;00m\n\u001b[1;32m      3\u001b[0m \u001b[38;5;66;03m# reg = ds.sphere(ds.domain_center, (1, \"kpc\"))\u001b[39;00m\n",
      "File \u001b[0;32m~/.conda/envs/yt4.3/lib/python3.12/site-packages/yt/data_objects/static_output.py:1825\u001b[0m, in \u001b[0;36mDataset.add_mesh_sampling_particle_field\u001b[0;34m(self, sample_field, ptype)\u001b[0m\n\u001b[1;32m   1822\u001b[0m \u001b[38;5;28;01melse\u001b[39;00m:\n\u001b[1;32m   1823\u001b[0m     \u001b[38;5;28;01mraise\u001b[39;00m \u001b[38;5;167;01mRuntimeError\u001b[39;00m\n\u001b[0;32m-> 1825\u001b[0m \u001b[38;5;28;01mreturn\u001b[39;00m \u001b[38;5;28;43mself\u001b[39;49m\u001b[38;5;241;43m.\u001b[39;49m\u001b[43mindex\u001b[49m\u001b[38;5;241;43m.\u001b[39;49m\u001b[43m_add_mesh_sampling_particle_field\u001b[49m\u001b[43m(\u001b[49m\u001b[43msample_field\u001b[49m\u001b[43m,\u001b[49m\u001b[43m \u001b[49m\u001b[43mftype\u001b[49m\u001b[43m,\u001b[49m\u001b[43m \u001b[49m\u001b[43mptype\u001b[49m\u001b[43m)\u001b[49m\n",
      "File \u001b[0;32m~/.conda/envs/yt4.3/lib/python3.12/site-packages/yt/geometry/oct_geometry_handler.py:107\u001b[0m, in \u001b[0;36mOctreeIndex._add_mesh_sampling_particle_field\u001b[0;34m(self, deposit_field, ftype, ptype)\u001b[0m\n\u001b[1;32m    104\u001b[0m     \u001b[38;5;28;01mreturn\u001b[39;00m data\u001b[38;5;241m.\u001b[39mds\u001b[38;5;241m.\u001b[39marr(ret, units\u001b[38;5;241m=\u001b[39mcell_data\u001b[38;5;241m.\u001b[39munits)\n\u001b[1;32m    106\u001b[0m \u001b[38;5;28;01mif\u001b[39;00m (ptype, \u001b[38;5;124m\"\u001b[39m\u001b[38;5;124mcell_index\u001b[39m\u001b[38;5;124m\"\u001b[39m) \u001b[38;5;129;01mnot\u001b[39;00m \u001b[38;5;129;01min\u001b[39;00m \u001b[38;5;28mself\u001b[39m\u001b[38;5;241m.\u001b[39mds\u001b[38;5;241m.\u001b[39mderived_field_list:\n\u001b[0;32m--> 107\u001b[0m     \u001b[38;5;28;43mself\u001b[39;49m\u001b[38;5;241;43m.\u001b[39;49m\u001b[43mds\u001b[49m\u001b[38;5;241;43m.\u001b[39;49m\u001b[43madd_field\u001b[49m\u001b[43m(\u001b[49m\n\u001b[1;32m    108\u001b[0m \u001b[43m        \u001b[49m\u001b[43m(\u001b[49m\u001b[43mptype\u001b[49m\u001b[43m,\u001b[49m\u001b[43m \u001b[49m\u001b[38;5;124;43m\"\u001b[39;49m\u001b[38;5;124;43mcell_index\u001b[39;49m\u001b[38;5;124;43m\"\u001b[39;49m\u001b[43m)\u001b[49m\u001b[43m,\u001b[49m\n\u001b[1;32m    109\u001b[0m \u001b[43m        \u001b[49m\u001b[43mfunction\u001b[49m\u001b[38;5;241;43m=\u001b[39;49m\u001b[43m_cell_index\u001b[49m\u001b[43m,\u001b[49m\n\u001b[1;32m    110\u001b[0m \u001b[43m        \u001b[49m\u001b[43msampling_type\u001b[49m\u001b[38;5;241;43m=\u001b[39;49m\u001b[38;5;124;43m\"\u001b[39;49m\u001b[38;5;124;43mparticle\u001b[39;49m\u001b[38;5;124;43m\"\u001b[39;49m\u001b[43m,\u001b[49m\n\u001b[1;32m    111\u001b[0m \u001b[43m        \u001b[49m\u001b[43munits\u001b[49m\u001b[38;5;241;43m=\u001b[39;49m\u001b[38;5;124;43m\"\u001b[39;49m\u001b[38;5;124;43m1\u001b[39;49m\u001b[38;5;124;43m\"\u001b[39;49m\u001b[43m,\u001b[49m\n\u001b[1;32m    112\u001b[0m \u001b[43m    \u001b[49m\u001b[43m)\u001b[49m\n\u001b[1;32m    114\u001b[0m \u001b[38;5;28mself\u001b[39m\u001b[38;5;241m.\u001b[39mds\u001b[38;5;241m.\u001b[39madd_field(\n\u001b[1;32m    115\u001b[0m     (ptype, field_name),\n\u001b[1;32m    116\u001b[0m     function\u001b[38;5;241m=\u001b[39m_mesh_sampling_particle_field,\n\u001b[0;32m   (...)\u001b[0m\n\u001b[1;32m    119\u001b[0m     take_log\u001b[38;5;241m=\u001b[39mtake_log,\n\u001b[1;32m    120\u001b[0m )\n",
      "File \u001b[0;32m~/.conda/envs/yt4.3/lib/python3.12/site-packages/yt/data_objects/static_output.py:1780\u001b[0m, in \u001b[0;36mDataset.add_field\u001b[0;34m(self, name, function, sampling_type, force_override, **kwargs)\u001b[0m\n\u001b[1;32m   1776\u001b[0m \u001b[38;5;28mself\u001b[39m\u001b[38;5;241m.\u001b[39mfield_info\u001b[38;5;241m.\u001b[39madd_field(\n\u001b[1;32m   1777\u001b[0m     name, function, sampling_type, force_override\u001b[38;5;241m=\u001b[39mforce_override, \u001b[38;5;241m*\u001b[39m\u001b[38;5;241m*\u001b[39mkwargs\n\u001b[1;32m   1778\u001b[0m )\n\u001b[1;32m   1779\u001b[0m \u001b[38;5;28mself\u001b[39m\u001b[38;5;241m.\u001b[39mfield_info\u001b[38;5;241m.\u001b[39m_show_field_errors\u001b[38;5;241m.\u001b[39mappend(name)\n\u001b[0;32m-> 1780\u001b[0m deps, _ \u001b[38;5;241m=\u001b[39m \u001b[38;5;28;43mself\u001b[39;49m\u001b[38;5;241;43m.\u001b[39;49m\u001b[43mfield_info\u001b[49m\u001b[38;5;241;43m.\u001b[39;49m\u001b[43mcheck_derived_fields\u001b[49m\u001b[43m(\u001b[49m\u001b[43m[\u001b[49m\u001b[43mname\u001b[49m\u001b[43m]\u001b[49m\u001b[43m)\u001b[49m\n\u001b[1;32m   1781\u001b[0m \u001b[38;5;28mself\u001b[39m\u001b[38;5;241m.\u001b[39mfield_dependencies\u001b[38;5;241m.\u001b[39mupdate(deps)\n",
      "File \u001b[0;32m~/.conda/envs/yt4.3/lib/python3.12/site-packages/yt/fields/field_info_container.py:644\u001b[0m, in \u001b[0;36mFieldInfoContainer.check_derived_fields\u001b[0;34m(self, fields_to_check)\u001b[0m\n\u001b[1;32m    641\u001b[0m fi \u001b[38;5;241m=\u001b[39m \u001b[38;5;28mself\u001b[39m[field]\n\u001b[1;32m    642\u001b[0m \u001b[38;5;28;01mtry\u001b[39;00m:\n\u001b[1;32m    643\u001b[0m     \u001b[38;5;66;03m# fd: field detector\u001b[39;00m\n\u001b[0;32m--> 644\u001b[0m     fd \u001b[38;5;241m=\u001b[39m \u001b[43mfi\u001b[49m\u001b[38;5;241;43m.\u001b[39;49m\u001b[43mget_dependencies\u001b[49m\u001b[43m(\u001b[49m\u001b[43mds\u001b[49m\u001b[38;5;241;43m=\u001b[39;49m\u001b[38;5;28;43mself\u001b[39;49m\u001b[38;5;241;43m.\u001b[39;49m\u001b[43mds\u001b[49m\u001b[43m)\u001b[49m\n\u001b[1;32m    645\u001b[0m \u001b[38;5;28;01mexcept\u001b[39;00m blacklist \u001b[38;5;28;01mas\u001b[39;00m err:\n\u001b[1;32m    646\u001b[0m     \u001b[38;5;28mprint\u001b[39m(\u001b[38;5;124mf\u001b[39m\u001b[38;5;124m\"\u001b[39m\u001b[38;5;132;01m{\u001b[39;00merr\u001b[38;5;241m.\u001b[39m\u001b[38;5;18m__class__\u001b[39m\u001b[38;5;132;01m}\u001b[39;00m\u001b[38;5;124m raised for field \u001b[39m\u001b[38;5;132;01m{\u001b[39;00mfield\u001b[38;5;132;01m}\u001b[39;00m\u001b[38;5;124m\"\u001b[39m)\n",
      "File \u001b[0;32m~/.conda/envs/yt4.3/lib/python3.12/site-packages/yt/fields/derived_field.py:244\u001b[0m, in \u001b[0;36mDerivedField.get_dependencies\u001b[0;34m(self, *args, **kwargs)\u001b[0m\n\u001b[1;32m    240\u001b[0m \u001b[38;5;250m\u001b[39m\u001b[38;5;124;03m\"\"\"\u001b[39;00m\n\u001b[1;32m    241\u001b[0m \u001b[38;5;124;03mThis returns a list of names of fields that this field depends on.\u001b[39;00m\n\u001b[1;32m    242\u001b[0m \u001b[38;5;124;03m\"\"\"\u001b[39;00m\n\u001b[1;32m    243\u001b[0m e \u001b[38;5;241m=\u001b[39m FieldDetector(\u001b[38;5;241m*\u001b[39margs, \u001b[38;5;241m*\u001b[39m\u001b[38;5;241m*\u001b[39mkwargs)\n\u001b[0;32m--> 244\u001b[0m \u001b[43me\u001b[49m\u001b[43m[\u001b[49m\u001b[38;5;28;43mself\u001b[39;49m\u001b[38;5;241;43m.\u001b[39;49m\u001b[43mname\u001b[49m\u001b[43m]\u001b[49m\n\u001b[1;32m    245\u001b[0m \u001b[38;5;28;01mreturn\u001b[39;00m e\n",
      "File \u001b[0;32m~/.conda/envs/yt4.3/lib/python3.12/site-packages/yt/fields/field_detector.py:128\u001b[0m, in \u001b[0;36mFieldDetector.__missing__\u001b[0;34m(self, item)\u001b[0m\n\u001b[1;32m    126\u001b[0m             vv \u001b[38;5;241m=\u001b[39m finfo(\u001b[38;5;28mself\u001b[39m)\n\u001b[1;32m    127\u001b[0m     \u001b[38;5;28;01mif\u001b[39;00m \u001b[38;5;129;01mnot\u001b[39;00m permute_params:\n\u001b[0;32m--> 128\u001b[0m         vv \u001b[38;5;241m=\u001b[39m \u001b[43mfinfo\u001b[49m\u001b[43m(\u001b[49m\u001b[38;5;28;43mself\u001b[39;49m\u001b[43m)\u001b[49m\n\u001b[1;32m    129\u001b[0m \u001b[38;5;28;01mexcept\u001b[39;00m NeedsGridType \u001b[38;5;28;01mas\u001b[39;00m exc:\n\u001b[1;32m    130\u001b[0m     ngz \u001b[38;5;241m=\u001b[39m exc\u001b[38;5;241m.\u001b[39mghost_zones\n",
      "File \u001b[0;32m~/.conda/envs/yt4.3/lib/python3.12/site-packages/yt/fields/derived_field.py:285\u001b[0m, in \u001b[0;36mDerivedField.__call__\u001b[0;34m(self, data)\u001b[0m\n\u001b[1;32m    280\u001b[0m     \u001b[38;5;28;01mraise\u001b[39;00m \u001b[38;5;167;01mRuntimeError\u001b[39;00m(\n\u001b[1;32m    281\u001b[0m         \u001b[38;5;124m\"\u001b[39m\u001b[38;5;124mSomething has gone terribly wrong, _function is NullFunc \u001b[39m\u001b[38;5;124m\"\u001b[39m\n\u001b[1;32m    282\u001b[0m         \u001b[38;5;241m+\u001b[39m \u001b[38;5;124mf\u001b[39m\u001b[38;5;124m\"\u001b[39m\u001b[38;5;124mfor \u001b[39m\u001b[38;5;132;01m{\u001b[39;00m\u001b[38;5;28mself\u001b[39m\u001b[38;5;241m.\u001b[39mname\u001b[38;5;132;01m}\u001b[39;00m\u001b[38;5;124m\"\u001b[39m\n\u001b[1;32m    283\u001b[0m     )\n\u001b[1;32m    284\u001b[0m \u001b[38;5;28;01mwith\u001b[39;00m \u001b[38;5;28mself\u001b[39m\u001b[38;5;241m.\u001b[39munit_registry(data):\n\u001b[0;32m--> 285\u001b[0m     dd \u001b[38;5;241m=\u001b[39m \u001b[38;5;28;43mself\u001b[39;49m\u001b[38;5;241;43m.\u001b[39;49m\u001b[43m_function\u001b[49m\u001b[43m(\u001b[49m\u001b[38;5;28;43mself\u001b[39;49m\u001b[43m,\u001b[49m\u001b[43m \u001b[49m\u001b[43mdata\u001b[49m\u001b[43m)\u001b[49m\n\u001b[1;32m    286\u001b[0m \u001b[38;5;28;01mfor\u001b[39;00m field_name \u001b[38;5;129;01min\u001b[39;00m data\u001b[38;5;241m.\u001b[39mkeys():\n\u001b[1;32m    287\u001b[0m     \u001b[38;5;28;01mif\u001b[39;00m field_name \u001b[38;5;129;01mnot\u001b[39;00m \u001b[38;5;129;01min\u001b[39;00m original_fields:\n",
      "File \u001b[0;32m~/.conda/envs/yt4.3/lib/python3.12/site-packages/yt/geometry/oct_geometry_handler.py:36\u001b[0m, in \u001b[0;36mOctreeIndex._add_mesh_sampling_particle_field.<locals>._cell_index\u001b[0;34m(field, data)\u001b[0m\n\u001b[1;32m     34\u001b[0m \u001b[38;5;28;01mdef\u001b[39;00m \u001b[38;5;21m_cell_index\u001b[39m(field, data):\n\u001b[1;32m     35\u001b[0m     \u001b[38;5;66;03m# Get the position of the particles\u001b[39;00m\n\u001b[0;32m---> 36\u001b[0m     pos \u001b[38;5;241m=\u001b[39m \u001b[43mdata\u001b[49m\u001b[43m[\u001b[49m\u001b[43mptype\u001b[49m\u001b[43m,\u001b[49m\u001b[43m \u001b[49m\u001b[38;5;124;43m\"\u001b[39;49m\u001b[38;5;124;43mparticle_position\u001b[39;49m\u001b[38;5;124;43m\"\u001b[39;49m\u001b[43m]\u001b[49m\n\u001b[1;32m     37\u001b[0m     Npart \u001b[38;5;241m=\u001b[39m pos\u001b[38;5;241m.\u001b[39mshape[\u001b[38;5;241m0\u001b[39m]\n\u001b[1;32m     38\u001b[0m     ret \u001b[38;5;241m=\u001b[39m np\u001b[38;5;241m.\u001b[39mzeros(Npart, dtype\u001b[38;5;241m=\u001b[39m\u001b[38;5;124m\"\u001b[39m\u001b[38;5;124mfloat64\u001b[39m\u001b[38;5;124m\"\u001b[39m)\n",
      "File \u001b[0;32m~/.conda/envs/yt4.3/lib/python3.12/site-packages/yt/fields/field_detector.py:111\u001b[0m, in \u001b[0;36mFieldDetector.__missing__\u001b[0;34m(self, item)\u001b[0m\n\u001b[1;32m    109\u001b[0m \u001b[38;5;28;01melse\u001b[39;00m:\n\u001b[1;32m    110\u001b[0m     field \u001b[38;5;241m=\u001b[39m item\n\u001b[0;32m--> 111\u001b[0m finfo \u001b[38;5;241m=\u001b[39m \u001b[38;5;28;43mself\u001b[39;49m\u001b[38;5;241;43m.\u001b[39;49m\u001b[43mds\u001b[49m\u001b[38;5;241;43m.\u001b[39;49m\u001b[43m_get_field_info\u001b[49m\u001b[43m(\u001b[49m\u001b[43mfield\u001b[49m\u001b[43m)\u001b[49m\n\u001b[1;32m    112\u001b[0m params, permute_params \u001b[38;5;241m=\u001b[39m finfo\u001b[38;5;241m.\u001b[39m_get_needed_parameters(\u001b[38;5;28mself\u001b[39m)\n\u001b[1;32m    113\u001b[0m \u001b[38;5;28mself\u001b[39m\u001b[38;5;241m.\u001b[39mfield_parameters\u001b[38;5;241m.\u001b[39mupdate(params)\n",
      "File \u001b[0;32m~/.conda/envs/yt4.3/lib/python3.12/site-packages/yt/data_objects/static_output.py:957\u001b[0m, in \u001b[0;36mDataset._get_field_info\u001b[0;34m(self, field)\u001b[0m\n\u001b[1;32m    952\u001b[0m \u001b[38;5;28;01mdef\u001b[39;00m \u001b[38;5;21m_get_field_info\u001b[39m(\n\u001b[1;32m    953\u001b[0m     \u001b[38;5;28mself\u001b[39m,\n\u001b[1;32m    954\u001b[0m     field: Union[FieldKey, ImplicitFieldKey, DerivedField],\n\u001b[1;32m    955\u001b[0m     \u001b[38;5;241m/\u001b[39m,\n\u001b[1;32m    956\u001b[0m ) \u001b[38;5;241m-\u001b[39m\u001b[38;5;241m>\u001b[39m DerivedField:\n\u001b[0;32m--> 957\u001b[0m     field_info, candidates \u001b[38;5;241m=\u001b[39m \u001b[38;5;28;43mself\u001b[39;49m\u001b[38;5;241;43m.\u001b[39;49m\u001b[43m_get_field_info_helper\u001b[49m\u001b[43m(\u001b[49m\u001b[43mfield\u001b[49m\u001b[43m)\u001b[49m\n\u001b[1;32m    959\u001b[0m     \u001b[38;5;28;01mif\u001b[39;00m field_info\u001b[38;5;241m.\u001b[39mname[\u001b[38;5;241m1\u001b[39m] \u001b[38;5;129;01min\u001b[39;00m (\u001b[38;5;124m\"\u001b[39m\u001b[38;5;124mpx\u001b[39m\u001b[38;5;124m\"\u001b[39m, \u001b[38;5;124m\"\u001b[39m\u001b[38;5;124mpy\u001b[39m\u001b[38;5;124m\"\u001b[39m, \u001b[38;5;124m\"\u001b[39m\u001b[38;5;124mpz\u001b[39m\u001b[38;5;124m\"\u001b[39m, \u001b[38;5;124m\"\u001b[39m\u001b[38;5;124mpdx\u001b[39m\u001b[38;5;124m\"\u001b[39m, \u001b[38;5;124m\"\u001b[39m\u001b[38;5;124mpdy\u001b[39m\u001b[38;5;124m\"\u001b[39m, \u001b[38;5;124m\"\u001b[39m\u001b[38;5;124mpdz\u001b[39m\u001b[38;5;124m\"\u001b[39m):\n\u001b[1;32m    960\u001b[0m         \u001b[38;5;66;03m# escape early as a bandaid solution to\u001b[39;00m\n\u001b[1;32m    961\u001b[0m         \u001b[38;5;66;03m# https://github.com/yt-project/yt/issues/3381\u001b[39;00m\n\u001b[1;32m    962\u001b[0m         \u001b[38;5;28;01mreturn\u001b[39;00m field_info\n",
      "File \u001b[0;32m~/.conda/envs/yt4.3/lib/python3.12/site-packages/yt/data_objects/static_output.py:1050\u001b[0m, in \u001b[0;36mDataset._get_field_info_helper\u001b[0;34m(self, field)\u001b[0m\n\u001b[1;32m   1047\u001b[0m \u001b[38;5;28;01melif\u001b[39;00m (ftype, fname) \u001b[38;5;129;01min\u001b[39;00m \u001b[38;5;28mself\u001b[39m\u001b[38;5;241m.\u001b[39mfield_info:\n\u001b[1;32m   1048\u001b[0m     \u001b[38;5;28;01mreturn\u001b[39;00m \u001b[38;5;28mself\u001b[39m\u001b[38;5;241m.\u001b[39mfield_info[ftype, fname], []\n\u001b[0;32m-> 1050\u001b[0m \u001b[38;5;28;01mraise\u001b[39;00m YTFieldNotFound(field, ds\u001b[38;5;241m=\u001b[39m\u001b[38;5;28mself\u001b[39m)\n",
      "\u001b[0;31mYTFieldNotFound\u001b[0m: Could not find field ('all', 'particle_position') in info_01111.\nDid you mean:\n\t('io', 'particle_position')\n\t('nbody', 'particle_position')\n\t('sink', 'particle_position')"
     ]
    }
   ],
   "source": [
    "ds.add_mesh_sampling_particle_field((\"ramses\", \"Density\"), ptype=\"all\")\n",
    "# ad = ds.all_data()\n",
    "# reg = ds.sphere(ds.domain_center, (1, \"kpc\"))"
   ]
  },
  {
   "cell_type": "code",
   "execution_count": 18,
   "metadata": {},
   "outputs": [
    {
     "ename": "AttributeError",
     "evalue": "'RAMSESDataset' object has no attribute 'mesh_sampling_particle_field'",
     "output_type": "error",
     "traceback": [
      "\u001b[0;31m---------------------------------------------------------------------------\u001b[0m",
      "\u001b[0;31mAttributeError\u001b[0m                            Traceback (most recent call last)",
      "Cell \u001b[0;32mIn[18], line 2\u001b[0m\n\u001b[1;32m      1\u001b[0m pos \u001b[38;5;241m=\u001b[39m np\u001b[38;5;241m.\u001b[39mrandom\u001b[38;5;241m.\u001b[39mrand(\u001b[38;5;241m100\u001b[39m, \u001b[38;5;241m3\u001b[39m)\n\u001b[0;32m----> 2\u001b[0m \u001b[43mds\u001b[49m\u001b[38;5;241;43m.\u001b[39;49m\u001b[43mmesh_sampling_particle_field\u001b[49m(mesh_field\u001b[38;5;241m=\u001b[39m(\u001b[38;5;124m\"\u001b[39m\u001b[38;5;124mramses\u001b[39m\u001b[38;5;124m\"\u001b[39m, \u001b[38;5;124m\"\u001b[39m\u001b[38;5;124mDensity\u001b[39m\u001b[38;5;124m\"\u001b[39m), positions\u001b[38;5;241m=\u001b[39mpos)\n\u001b[1;32m      3\u001b[0m \u001b[38;5;66;03m# ad.mesh_sampling_particle_field(mesh_field=(\"ramses\", \"Density\"), positions=pos)\u001b[39;00m\n\u001b[1;32m      4\u001b[0m \u001b[38;5;66;03m# reg.mesh_sampling_particle_field(mesh_field=(\"ramses\", \"Density\"), positions=pos)\u001b[39;00m\n",
      "\u001b[0;31mAttributeError\u001b[0m: 'RAMSESDataset' object has no attribute 'mesh_sampling_particle_field'"
     ]
    }
   ],
   "source": [
    "pos = np.random.rand(100, 3)\n",
    "ds.mesh_sampling_particle_field(mesh_field=(\"ramses\", \"Density\"), positions=pos)\n",
    "# ad.mesh_sampling_particle_field(mesh_field=(\"ramses\", \"Density\"), positions=pos)\n",
    "# reg.mesh_sampling_particle_field(mesh_field=(\"ramses\", \"Density\"), positions=pos)"
   ]
  },
  {
   "cell_type": "code",
   "execution_count": 6,
   "metadata": {},
   "outputs": [],
   "source": [
    "# call the mesh_sampling_particle_field method of OctreeSubset object\n",
    "# to sample the particle field"
   ]
  }
 ],
 "metadata": {
  "kernelspec": {
   "display_name": "yt4.3",
   "language": "python",
   "name": "python3"
  },
  "language_info": {
   "codemirror_mode": {
    "name": "ipython",
    "version": 3
   },
   "file_extension": ".py",
   "mimetype": "text/x-python",
   "name": "python",
   "nbconvert_exporter": "python",
   "pygments_lexer": "ipython3",
   "version": "undefined.undefined.undefined"
  }
 },
 "nbformat": 4,
 "nbformat_minor": 2
}
